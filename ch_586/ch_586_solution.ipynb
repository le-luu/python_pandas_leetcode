{
 "cells": [
  {
   "cell_type": "markdown",
   "id": "7864bb72",
   "metadata": {},
   "source": [
    "### Challenge 586: CUstomer Placing the Largest Number of Orders\n",
    "\n",
    "Table: Orders\n",
    "\n",
    "\n",
    "| Column Name     | Type     |\n",
    "|-----------------|----------|\n",
    "| order_number    | int      |\n",
    "| customer_number | int      |\n",
    "\n",
    "order_number is the primary key (column with unique values) for this table.\n",
    "This table contains information about the order ID and the customer ID.\n",
    " \n",
    "\n",
    "Write a solution to find the customer_number for the customer who has placed the largest number of orders.\n",
    "\n",
    "The test cases are generated so that exactly one customer will have placed more orders than any other customer.\n",
    "\n",
    "The result format is in the following example.\n",
    "\n",
    " \n",
    "\n",
    "Example 1:\n",
    "\n",
    "Input: \n",
    "Orders table:\n",
    "\n",
    "| order_number | customer_number |\n",
    "|--------------|-----------------|\n",
    "| 1            | 1               |\n",
    "| 2            | 2               |\n",
    "| 3            | 3               |\n",
    "| 4            | 3               |\n",
    "\n",
    "Output: \n",
    "\n",
    "| customer_number |\n",
    "|-----------------|\n",
    "| 3               |\n",
    "\n",
    "Explanation: \n",
    "The customer with number 3 has two orders, which is greater than either customer 1 or 2 because each of them only has one order. \n",
    "So the result is customer_number 3."
   ]
  },
  {
   "cell_type": "markdown",
   "id": "e1e2b884",
   "metadata": {},
   "source": [
    "### Solution"
   ]
  },
  {
   "cell_type": "code",
   "execution_count": 1,
   "id": "aed5fe63",
   "metadata": {},
   "outputs": [],
   "source": [
    "import pandas as pd"
   ]
  },
  {
   "cell_type": "code",
   "execution_count": 14,
   "id": "07fca04a",
   "metadata": {},
   "outputs": [],
   "source": [
    "def largest_orders(orders: pd.DataFrame) -> pd.DataFrame:\n",
    "    count_cust = (orders.groupby('customer_number').size().reset_index(name='order_count').sort_values(by='order_count', ascending=False))\n",
    "    return count_cust[['customer_number']].head(1)"
   ]
  },
  {
   "cell_type": "code",
   "execution_count": 15,
   "id": "e87b1c03",
   "metadata": {},
   "outputs": [],
   "source": [
    "data = pd.DataFrame({\n",
    "    'order_number': [1,2,3,4],\n",
    "    'customer_number': [1,2,3,3]\n",
    "})"
   ]
  },
  {
   "cell_type": "code",
   "execution_count": 16,
   "id": "b669f21f",
   "metadata": {},
   "outputs": [
    {
     "data": {
      "text/html": [
       "<div>\n",
       "<style scoped>\n",
       "    .dataframe tbody tr th:only-of-type {\n",
       "        vertical-align: middle;\n",
       "    }\n",
       "\n",
       "    .dataframe tbody tr th {\n",
       "        vertical-align: top;\n",
       "    }\n",
       "\n",
       "    .dataframe thead th {\n",
       "        text-align: right;\n",
       "    }\n",
       "</style>\n",
       "<table border=\"1\" class=\"dataframe\">\n",
       "  <thead>\n",
       "    <tr style=\"text-align: right;\">\n",
       "      <th></th>\n",
       "      <th>customer_number</th>\n",
       "    </tr>\n",
       "  </thead>\n",
       "  <tbody>\n",
       "    <tr>\n",
       "      <th>2</th>\n",
       "      <td>3</td>\n",
       "    </tr>\n",
       "  </tbody>\n",
       "</table>\n",
       "</div>"
      ],
      "text/plain": [
       "   customer_number\n",
       "2                3"
      ]
     },
     "execution_count": 16,
     "metadata": {},
     "output_type": "execute_result"
    }
   ],
   "source": [
    "largest_orders(data)"
   ]
  },
  {
   "cell_type": "code",
   "execution_count": null,
   "id": "cbd68c9d",
   "metadata": {},
   "outputs": [],
   "source": []
  }
 ],
 "metadata": {
  "kernelspec": {
   "display_name": "Python (jupyter_env)",
   "language": "python",
   "name": "jupyter_env"
  },
  "language_info": {
   "codemirror_mode": {
    "name": "ipython",
    "version": 3
   },
   "file_extension": ".py",
   "mimetype": "text/x-python",
   "name": "python",
   "nbconvert_exporter": "python",
   "pygments_lexer": "ipython3",
   "version": "3.11.13"
  }
 },
 "nbformat": 4,
 "nbformat_minor": 5
}
