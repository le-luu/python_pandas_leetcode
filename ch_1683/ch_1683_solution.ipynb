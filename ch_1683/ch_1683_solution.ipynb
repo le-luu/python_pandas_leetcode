{
 "cells": [
  {
   "cell_type": "markdown",
   "id": "67774fb5",
   "metadata": {},
   "source": [
    "## Challenge 1683: Invalid Tweets\n",
    "\n",
    "Table: Tweets\n",
    "\n",
    "\n",
    "| Column Name    | Type    |\n",
    "|----------------|---------|\n",
    "| tweet_id       | int     |\n",
    "| content        | varchar |\n",
    "\n",
    "tweet_id is the primary key (column with unique values) for this table.\n",
    "content consists of alphanumeric characters, '!', or ' ' and no other special characters.\n",
    "This table contains all the tweets in a social media app.\n",
    " \n",
    "\n",
    "Write a solution to find the IDs of the invalid tweets. The tweet is invalid if the number of characters used in the content of the tweet is strictly greater than 15.\n",
    "\n",
    "Return the result table in any order.\n",
    "\n",
    "The result format is in the following example.\n",
    "\n",
    " \n",
    "\n",
    "Example 1:\n",
    "\n",
    "Input: \n",
    "Tweets table:\n",
    "\n",
    "| tweet_id | content                           |\n",
    "|----------|-----------------------------------|\n",
    "| 1        | Let us Code                       |\n",
    "| 2        | More than fifteen chars are here! |\n",
    "\n",
    "Output: \n",
    "\n",
    "| tweet_id |\n",
    "|----------|\n",
    "| 2        |\n",
    "\n",
    "Explanation: \n",
    "Tweet 1 has length = 11. It is a valid tweet.\n",
    "Tweet 2 has length = 33. It is an invalid tweet."
   ]
  },
  {
   "cell_type": "markdown",
   "id": "991ae00a",
   "metadata": {},
   "source": [
    "### Solution"
   ]
  },
  {
   "cell_type": "code",
   "execution_count": 1,
   "id": "11fec6f4",
   "metadata": {},
   "outputs": [],
   "source": [
    "import pandas as pd"
   ]
  },
  {
   "cell_type": "code",
   "execution_count": 8,
   "id": "9c4763a9",
   "metadata": {},
   "outputs": [],
   "source": [
    "def invalid_tweets(tweets: pd.DataFrame) -> pd.DataFrame:\n",
    "    tweets['length_ch'] = tweets['content'].str.len()\n",
    "    result = tweets[tweets['length_ch']>15][['tweet_id']]\n",
    "    return result"
   ]
  },
  {
   "cell_type": "code",
   "execution_count": 9,
   "id": "a07dbeea",
   "metadata": {},
   "outputs": [],
   "source": [
    "data = pd.DataFrame({\n",
    "    'tweet_id': [1,2],\n",
    "    'content': ['Let us Code','More than fifteen chars are here!']\n",
    "})"
   ]
  },
  {
   "cell_type": "code",
   "execution_count": 10,
   "id": "8575ee1a",
   "metadata": {},
   "outputs": [
    {
     "data": {
      "text/html": [
       "<div>\n",
       "<style scoped>\n",
       "    .dataframe tbody tr th:only-of-type {\n",
       "        vertical-align: middle;\n",
       "    }\n",
       "\n",
       "    .dataframe tbody tr th {\n",
       "        vertical-align: top;\n",
       "    }\n",
       "\n",
       "    .dataframe thead th {\n",
       "        text-align: right;\n",
       "    }\n",
       "</style>\n",
       "<table border=\"1\" class=\"dataframe\">\n",
       "  <thead>\n",
       "    <tr style=\"text-align: right;\">\n",
       "      <th></th>\n",
       "      <th>tweet_id</th>\n",
       "    </tr>\n",
       "  </thead>\n",
       "  <tbody>\n",
       "    <tr>\n",
       "      <th>1</th>\n",
       "      <td>2</td>\n",
       "    </tr>\n",
       "  </tbody>\n",
       "</table>\n",
       "</div>"
      ],
      "text/plain": [
       "   tweet_id\n",
       "1         2"
      ]
     },
     "execution_count": 10,
     "metadata": {},
     "output_type": "execute_result"
    }
   ],
   "source": [
    "invalid_tweets(data)"
   ]
  }
 ],
 "metadata": {
  "kernelspec": {
   "display_name": "Python (jupyter_env)",
   "language": "python",
   "name": "jupyter_env"
  },
  "language_info": {
   "codemirror_mode": {
    "name": "ipython",
    "version": 3
   },
   "file_extension": ".py",
   "mimetype": "text/x-python",
   "name": "python",
   "nbconvert_exporter": "python",
   "pygments_lexer": "ipython3",
   "version": "3.11.13"
  }
 },
 "nbformat": 4,
 "nbformat_minor": 5
}
