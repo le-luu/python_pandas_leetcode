{
 "cells": [
  {
   "cell_type": "markdown",
   "id": "0acb17bf",
   "metadata": {},
   "source": [
    "## Challenge 178: Rank Scores\n",
    "\n",
    "Table: Scores\n",
    "\n",
    "\n",
    "| Column Name | Type    |\n",
    "|-------------|---------|\n",
    "| id          | int     |\n",
    "| score       | decimal |\n",
    "\n",
    "id is the primary key (column with unique values) for this table.\n",
    "Each row of this table contains the score of a game. Score is a floating point value with two decimal places.\n",
    " \n",
    "\n",
    "Write a solution to find the rank of the scores. The ranking should be calculated according to the following rules:\n",
    "\n",
    "The scores should be ranked from the highest to the lowest.\n",
    "If there is a tie between two scores, both should have the same ranking.\n",
    "After a tie, the next ranking number should be the next consecutive integer value. In other words, there should be no holes between ranks.\n",
    "Return the result table ordered by score in descending order.\n",
    "\n",
    "The result format is in the following example.\n",
    "\n",
    " \n",
    "\n",
    "Example 1:\n",
    "\n",
    "Input: \n",
    "Scores table:\n",
    "\n",
    "| id | score |\n",
    "|----|-------|\n",
    "| 1  | 3.50  |\n",
    "| 2  | 3.65  |\n",
    "| 3  | 4.00  |\n",
    "| 4  | 3.85  |\n",
    "| 5  | 4.00  |\n",
    "| 6  | 3.65  |\n",
    "\n",
    "Output: \n",
    "\n",
    "| score | rank |\n",
    "|-------|------|\n",
    "| 4.00  | 1    |\n",
    "| 4.00  | 1    |\n",
    "| 3.85  | 2    |\n",
    "| 3.65  | 3    |\n",
    "| 3.65  | 3    |\n",
    "| 3.50  | 4    |\n",
    "\n"
   ]
  },
  {
   "cell_type": "markdown",
   "id": "b067468e",
   "metadata": {},
   "source": [
    "### Solution"
   ]
  },
  {
   "cell_type": "code",
   "execution_count": 1,
   "id": "07852c9d",
   "metadata": {},
   "outputs": [],
   "source": [
    "import pandas as pd"
   ]
  },
  {
   "cell_type": "code",
   "execution_count": 8,
   "id": "1c6a0471",
   "metadata": {},
   "outputs": [],
   "source": [
    "def order_scores(scores: pd.DataFrame) -> pd.DataFrame:\n",
    "    scores['rank'] = scores['score'].rank(ascending=False, method='dense')\n",
    "    return scores[['score','rank']].sort_values(by='rank')"
   ]
  },
  {
   "cell_type": "markdown",
   "id": "28f056b1",
   "metadata": {},
   "source": [
    "### Testing"
   ]
  },
  {
   "cell_type": "code",
   "execution_count": 9,
   "id": "90f8f53e",
   "metadata": {},
   "outputs": [],
   "source": [
    "data = pd.DataFrame({\n",
    "    'id': [1,2,3,4,5,6],\n",
    "    'score': [3.50,3.65,4.00,3.85,4.00,3.65]\n",
    "})"
   ]
  },
  {
   "cell_type": "code",
   "execution_count": 10,
   "id": "27b6812b",
   "metadata": {},
   "outputs": [
    {
     "data": {
      "text/html": [
       "<div>\n",
       "<style scoped>\n",
       "    .dataframe tbody tr th:only-of-type {\n",
       "        vertical-align: middle;\n",
       "    }\n",
       "\n",
       "    .dataframe tbody tr th {\n",
       "        vertical-align: top;\n",
       "    }\n",
       "\n",
       "    .dataframe thead th {\n",
       "        text-align: right;\n",
       "    }\n",
       "</style>\n",
       "<table border=\"1\" class=\"dataframe\">\n",
       "  <thead>\n",
       "    <tr style=\"text-align: right;\">\n",
       "      <th></th>\n",
       "      <th>score</th>\n",
       "      <th>rank</th>\n",
       "    </tr>\n",
       "  </thead>\n",
       "  <tbody>\n",
       "    <tr>\n",
       "      <th>2</th>\n",
       "      <td>4.00</td>\n",
       "      <td>1.0</td>\n",
       "    </tr>\n",
       "    <tr>\n",
       "      <th>4</th>\n",
       "      <td>4.00</td>\n",
       "      <td>1.0</td>\n",
       "    </tr>\n",
       "    <tr>\n",
       "      <th>3</th>\n",
       "      <td>3.85</td>\n",
       "      <td>2.0</td>\n",
       "    </tr>\n",
       "    <tr>\n",
       "      <th>1</th>\n",
       "      <td>3.65</td>\n",
       "      <td>3.0</td>\n",
       "    </tr>\n",
       "    <tr>\n",
       "      <th>5</th>\n",
       "      <td>3.65</td>\n",
       "      <td>3.0</td>\n",
       "    </tr>\n",
       "    <tr>\n",
       "      <th>0</th>\n",
       "      <td>3.50</td>\n",
       "      <td>4.0</td>\n",
       "    </tr>\n",
       "  </tbody>\n",
       "</table>\n",
       "</div>"
      ],
      "text/plain": [
       "   score  rank\n",
       "2   4.00   1.0\n",
       "4   4.00   1.0\n",
       "3   3.85   2.0\n",
       "1   3.65   3.0\n",
       "5   3.65   3.0\n",
       "0   3.50   4.0"
      ]
     },
     "execution_count": 10,
     "metadata": {},
     "output_type": "execute_result"
    }
   ],
   "source": [
    "order_scores(data)"
   ]
  },
  {
   "cell_type": "code",
   "execution_count": null,
   "id": "b7e218e6",
   "metadata": {},
   "outputs": [],
   "source": []
  }
 ],
 "metadata": {
  "kernelspec": {
   "display_name": "Python (jupyter_env)",
   "language": "python",
   "name": "jupyter_env"
  },
  "language_info": {
   "codemirror_mode": {
    "name": "ipython",
    "version": 3
   },
   "file_extension": ".py",
   "mimetype": "text/x-python",
   "name": "python",
   "nbconvert_exporter": "python",
   "pygments_lexer": "ipython3",
   "version": "3.11.13"
  }
 },
 "nbformat": 4,
 "nbformat_minor": 5
}
