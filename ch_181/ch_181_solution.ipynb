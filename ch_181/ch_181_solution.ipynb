{
 "cells": [
  {
   "cell_type": "markdown",
   "id": "3de37bfb",
   "metadata": {},
   "source": [
    "## Challenge 181: Employees Earning More than their Managers\n",
    "\n",
    "Table: Employee\n",
    "\n",
    "\n",
    "| Column Name | Type    |\n",
    "|-------------|---------|\n",
    "| id          | int     |\n",
    "| name        | varchar |\n",
    "| salary      | int     |\n",
    "| managerId   | int     |\n",
    "\n",
    "id is the primary key (column with unique values) for this table.\n",
    "Each row of this table indicates the ID of an employee, their name, salary, and the ID of their manager.\n",
    " \n",
    "\n",
    "Write a solution to find the employees who earn more than their managers.\n",
    "\n",
    "Return the result table in any order.\n",
    "\n",
    "The result format is in the following example.\n",
    "\n",
    " \n",
    "\n",
    "Example 1:\n",
    "\n",
    "Input: \n",
    "Employee table:\n",
    "\n",
    "| id | name  | salary | managerId |\n",
    "|----|-------|--------|-----------|\n",
    "| 1  | Joe   | 70000  | 3         |\n",
    "| 2  | Henry | 80000  | 4         |\n",
    "| 3  | Sam   | 60000  | Null      |\n",
    "| 4  | Max   | 90000  | Null      |\n",
    "\n",
    "Output: \n",
    "\n",
    "| Employee |\n",
    "|----------|\n",
    "| Joe      |\n",
    "\n",
    "Explanation: Joe is the only employee who earns more than his manager."
   ]
  },
  {
   "cell_type": "markdown",
   "id": "10b20d82",
   "metadata": {},
   "source": [
    "### Solution"
   ]
  },
  {
   "cell_type": "code",
   "execution_count": 1,
   "id": "a27a5b04",
   "metadata": {},
   "outputs": [],
   "source": [
    "import pandas as pd"
   ]
  },
  {
   "cell_type": "code",
   "execution_count": 4,
   "id": "4a9d0582",
   "metadata": {},
   "outputs": [],
   "source": [
    "employee = pd.DataFrame({\n",
    "    'id':[1,2,3,4],\n",
    "    'name': ['Joe','Henry','Sam','Max'],\n",
    "    'salary': [70000,80000,60000,90000],\n",
    "    'managerId': [3,4, None, None]\n",
    "})"
   ]
  },
  {
   "cell_type": "code",
   "execution_count": 5,
   "id": "21ebe190",
   "metadata": {},
   "outputs": [],
   "source": [
    "join_table = pd.merge(employee,employee,left_on='id',right_on='managerId',how='inner')"
   ]
  },
  {
   "cell_type": "code",
   "execution_count": 6,
   "id": "a21776b7",
   "metadata": {},
   "outputs": [
    {
     "data": {
      "text/html": [
       "<div>\n",
       "<style scoped>\n",
       "    .dataframe tbody tr th:only-of-type {\n",
       "        vertical-align: middle;\n",
       "    }\n",
       "\n",
       "    .dataframe tbody tr th {\n",
       "        vertical-align: top;\n",
       "    }\n",
       "\n",
       "    .dataframe thead th {\n",
       "        text-align: right;\n",
       "    }\n",
       "</style>\n",
       "<table border=\"1\" class=\"dataframe\">\n",
       "  <thead>\n",
       "    <tr style=\"text-align: right;\">\n",
       "      <th></th>\n",
       "      <th>id_x</th>\n",
       "      <th>name_x</th>\n",
       "      <th>salary_x</th>\n",
       "      <th>managerId_x</th>\n",
       "      <th>id_y</th>\n",
       "      <th>name_y</th>\n",
       "      <th>salary_y</th>\n",
       "      <th>managerId_y</th>\n",
       "    </tr>\n",
       "  </thead>\n",
       "  <tbody>\n",
       "    <tr>\n",
       "      <th>0</th>\n",
       "      <td>3</td>\n",
       "      <td>Sam</td>\n",
       "      <td>60000</td>\n",
       "      <td>NaN</td>\n",
       "      <td>1</td>\n",
       "      <td>Joe</td>\n",
       "      <td>70000</td>\n",
       "      <td>3.0</td>\n",
       "    </tr>\n",
       "    <tr>\n",
       "      <th>1</th>\n",
       "      <td>4</td>\n",
       "      <td>Max</td>\n",
       "      <td>90000</td>\n",
       "      <td>NaN</td>\n",
       "      <td>2</td>\n",
       "      <td>Henry</td>\n",
       "      <td>80000</td>\n",
       "      <td>4.0</td>\n",
       "    </tr>\n",
       "  </tbody>\n",
       "</table>\n",
       "</div>"
      ],
      "text/plain": [
       "   id_x name_x  salary_x  managerId_x  id_y name_y  salary_y  managerId_y\n",
       "0     3    Sam     60000          NaN     1    Joe     70000          3.0\n",
       "1     4    Max     90000          NaN     2  Henry     80000          4.0"
      ]
     },
     "execution_count": 6,
     "metadata": {},
     "output_type": "execute_result"
    }
   ],
   "source": [
    "join_table"
   ]
  },
  {
   "cell_type": "code",
   "execution_count": 8,
   "id": "87009919",
   "metadata": {},
   "outputs": [],
   "source": [
    "result = join_table[join_table['salary_y']>join_table['salary_x']][['name_y']].rename(columns={'name_y':'Employee'})"
   ]
  },
  {
   "cell_type": "code",
   "execution_count": 9,
   "id": "8ae8f7af",
   "metadata": {},
   "outputs": [
    {
     "data": {
      "text/html": [
       "<div>\n",
       "<style scoped>\n",
       "    .dataframe tbody tr th:only-of-type {\n",
       "        vertical-align: middle;\n",
       "    }\n",
       "\n",
       "    .dataframe tbody tr th {\n",
       "        vertical-align: top;\n",
       "    }\n",
       "\n",
       "    .dataframe thead th {\n",
       "        text-align: right;\n",
       "    }\n",
       "</style>\n",
       "<table border=\"1\" class=\"dataframe\">\n",
       "  <thead>\n",
       "    <tr style=\"text-align: right;\">\n",
       "      <th></th>\n",
       "      <th>Employee</th>\n",
       "    </tr>\n",
       "  </thead>\n",
       "  <tbody>\n",
       "    <tr>\n",
       "      <th>0</th>\n",
       "      <td>Joe</td>\n",
       "    </tr>\n",
       "  </tbody>\n",
       "</table>\n",
       "</div>"
      ],
      "text/plain": [
       "  Employee\n",
       "0      Joe"
      ]
     },
     "execution_count": 9,
     "metadata": {},
     "output_type": "execute_result"
    }
   ],
   "source": [
    "result"
   ]
  },
  {
   "cell_type": "code",
   "execution_count": null,
   "id": "04b39004",
   "metadata": {},
   "outputs": [],
   "source": []
  }
 ],
 "metadata": {
  "kernelspec": {
   "display_name": "Python (jupyter_env)",
   "language": "python",
   "name": "jupyter_env"
  },
  "language_info": {
   "codemirror_mode": {
    "name": "ipython",
    "version": 3
   },
   "file_extension": ".py",
   "mimetype": "text/x-python",
   "name": "python",
   "nbconvert_exporter": "python",
   "pygments_lexer": "ipython3",
   "version": "3.11.13"
  }
 },
 "nbformat": 4,
 "nbformat_minor": 5
}
