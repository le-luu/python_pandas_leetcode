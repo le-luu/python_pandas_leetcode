{
 "cells": [
  {
   "cell_type": "markdown",
   "id": "d698c827",
   "metadata": {},
   "source": [
    "## Challenge 570: Managers with at least 5 Direct Reports\n",
    "\n",
    "Table: Employee\n",
    "\n",
    "\n",
    "| Column Name | Type    |\n",
    "|-------------|---------|\n",
    "| id          | int     |\n",
    "| name        | varchar |\n",
    "| department  | varchar |\n",
    "| managerId   | int     |\n",
    "\n",
    "id is the primary key (column with unique values) for this table.\n",
    "Each row of this table indicates the name of an employee, their department, and the id of their manager.\n",
    "If managerId is null, then the employee does not have a manager.\n",
    "No employee will be the manager of themself.\n",
    " \n",
    "\n",
    "Write a solution to find managers with at least five direct reports.\n",
    "\n",
    "Return the result table in any order.\n",
    "\n",
    "The result format is in the following example.\n",
    "\n",
    " \n",
    "\n",
    "Example 1:\n",
    "\n",
    "Input: \n",
    "Employee table:\n",
    "\n",
    "| id  | name  | department | managerId |\n",
    "|-----|-------|------------|-----------|\n",
    "| 101 | John  | A          | null      |\n",
    "| 102 | Dan   | A          | 101       |\n",
    "| 103 | James | A          | 101       |\n",
    "| 104 | Amy   | A          | 101       |\n",
    "| 105 | Anne  | A          | 101       |\n",
    "| 106 | Ron   | B          | 101       |\n",
    "\n",
    "Output: \n",
    "\n",
    "| name |\n",
    "|------|\n",
    "| John |\n"
   ]
  },
  {
   "cell_type": "markdown",
   "id": "d8fa8dba",
   "metadata": {},
   "source": [
    "### Solution"
   ]
  },
  {
   "cell_type": "code",
   "execution_count": 1,
   "id": "5f70a4cc",
   "metadata": {},
   "outputs": [],
   "source": [
    "import pandas as pd"
   ]
  },
  {
   "cell_type": "code",
   "execution_count": null,
   "id": "0cf14739",
   "metadata": {},
   "outputs": [],
   "source": [
    "def find_managers(employee: pd.DataFrame) -> pd.DataFrame:\n",
    "    #Group by manager ID, then count how many employees reported to that manager ID\n",
    "    manager_count = employee.groupby(by='managerId').agg(manager_count=('managerId','count')).reset_index()\n",
    "    #Merge that table with the original table, to find the name of the manager with number of reports >=5\n",
    "    result = pd.merge(employee,manager_count,left_on='id',right_on='managerId',how='inner')\n",
    "    return result[result['manager_count']>=5][['name']]"
   ]
  },
  {
   "cell_type": "code",
   "execution_count": null,
   "id": "cfb2c6d3",
   "metadata": {},
   "outputs": [],
   "source": [
    "#Another way from other Solver, in opposite way:\n",
    "def find_managers(employee: pd.DataFrame) -> pd.DataFrame:\n",
    "    #Group by manager ID and count number of employee\n",
    "    m = employee.groupby('managerId')['id'].count()\n",
    "    #filter data if number of employees is >=5\n",
    "    m = m[m>=5]\n",
    "    #get the index\n",
    "    s = set(m.index)\n",
    "\n",
    "    #then, check the employee table with the id in the s table above to find the name of manager\n",
    "    return employee[employee['id'].isin(s)][['name']]"
   ]
  },
  {
   "cell_type": "code",
   "execution_count": 13,
   "id": "e4b9f3a6",
   "metadata": {},
   "outputs": [],
   "source": [
    "data = pd.DataFrame({\n",
    "    'id': [101,102,103,104,105,106],\n",
    "    'name': ['John','Dan','James','Amy','Anne','Ron'],\n",
    "    'department': ['A','A','A','A','A','B'],\n",
    "    'managerId': [None,101,101,101,101,101]\n",
    "})"
   ]
  },
  {
   "cell_type": "code",
   "execution_count": 14,
   "id": "6bb748a4",
   "metadata": {},
   "outputs": [
    {
     "data": {
      "text/html": [
       "<div>\n",
       "<style scoped>\n",
       "    .dataframe tbody tr th:only-of-type {\n",
       "        vertical-align: middle;\n",
       "    }\n",
       "\n",
       "    .dataframe tbody tr th {\n",
       "        vertical-align: top;\n",
       "    }\n",
       "\n",
       "    .dataframe thead th {\n",
       "        text-align: right;\n",
       "    }\n",
       "</style>\n",
       "<table border=\"1\" class=\"dataframe\">\n",
       "  <thead>\n",
       "    <tr style=\"text-align: right;\">\n",
       "      <th></th>\n",
       "      <th>name</th>\n",
       "    </tr>\n",
       "  </thead>\n",
       "  <tbody>\n",
       "    <tr>\n",
       "      <th>0</th>\n",
       "      <td>John</td>\n",
       "    </tr>\n",
       "  </tbody>\n",
       "</table>\n",
       "</div>"
      ],
      "text/plain": [
       "   name\n",
       "0  John"
      ]
     },
     "execution_count": 14,
     "metadata": {},
     "output_type": "execute_result"
    }
   ],
   "source": [
    "find_managers(data)"
   ]
  },
  {
   "cell_type": "code",
   "execution_count": null,
   "id": "c0ddd203",
   "metadata": {},
   "outputs": [],
   "source": []
  }
 ],
 "metadata": {
  "kernelspec": {
   "display_name": "Python (jupyter_env)",
   "language": "python",
   "name": "jupyter_env"
  },
  "language_info": {
   "codemirror_mode": {
    "name": "ipython",
    "version": 3
   },
   "file_extension": ".py",
   "mimetype": "text/x-python",
   "name": "python",
   "nbconvert_exporter": "python",
   "pygments_lexer": "ipython3",
   "version": "3.11.13"
  }
 },
 "nbformat": 4,
 "nbformat_minor": 5
}
