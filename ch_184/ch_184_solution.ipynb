{
 "cells": [
  {
   "cell_type": "markdown",
   "id": "28bce641",
   "metadata": {},
   "source": [
    "## Challenge 184: Department Highest Salary\n",
    "\n",
    "Table: Employee\n",
    "\n",
    "\n",
    "| Column Name  | Type    |\n",
    "|--------------|---------|\n",
    "| id           | int     |\n",
    "| name         | varchar |\n",
    "| salary       | int     |\n",
    "| departmentId | int     |\n",
    "\n",
    "id is the primary key (column with unique values) for this table.\n",
    "departmentId is a foreign key (reference columns) of the ID from the Department table.\n",
    "Each row of this table indicates the ID, name, and salary of an employee. It also contains the ID of their department.\n",
    " \n",
    "\n",
    "Table: Department\n",
    "\n",
    "\n",
    "| Column Name | Type    |\n",
    "|-------------|---------|\n",
    "| id          | int     |\n",
    "| name        | varchar |\n",
    "\n",
    "id is the primary key (column with unique values) for this table. It is guaranteed that department name is not NULL.\n",
    "Each row of this table indicates the ID of a department and its name.\n",
    " \n",
    "\n",
    "Write a solution to find employees who have the highest salary in each of the departments.\n",
    "\n",
    "Return the result table in any order.\n",
    "\n",
    "The result format is in the following example.\n",
    "\n",
    "Example 1:\n",
    "\n",
    "Input: \n",
    "Employee table:\n",
    "\n",
    "| id | name  | salary | departmentId |\n",
    "|----|-------|--------|--------------|\n",
    "| 1  | Joe   | 70000  | 1            |\n",
    "| 2  | Jim   | 90000  | 1            |\n",
    "| 3  | Henry | 80000  | 2            |\n",
    "| 4  | Sam   | 60000  | 2            |\n",
    "| 5  | Max   | 90000  | 1            |\n",
    "\n",
    "Department table:\n",
    "\n",
    "| id | name  |\n",
    "|----|-------|\n",
    "| 1  | IT    |\n",
    "| 2  | Sales |\n",
    "\n",
    "Output: \n",
    "\n",
    "| Department | Employee | Salary |\n",
    "|------------|----------|--------|\n",
    "| IT         | Jim      | 90000  |\n",
    "| Sales      | Henry    | 80000  |\n",
    "| IT         | Max      | 90000  |\n",
    "\n",
    "Explanation: Max and Jim both have the highest salary in the IT department and Henry has the highest salary in the Sales department."
   ]
  },
  {
   "cell_type": "markdown",
   "id": "f8f35465",
   "metadata": {},
   "source": [
    "### Solution"
   ]
  },
  {
   "cell_type": "code",
   "execution_count": 1,
   "id": "6626cb06",
   "metadata": {},
   "outputs": [],
   "source": [
    "import pandas as pd"
   ]
  },
  {
   "cell_type": "code",
   "execution_count": 21,
   "id": "cc82832e",
   "metadata": {},
   "outputs": [],
   "source": [
    "def department_highest_salary(employee: pd.DataFrame, department: pd.DataFrame) -> pd.DataFrame:\n",
    "    merge = pd.merge(employee,department,left_on='departmentId',right_on='id',how='inner')\n",
    "    dept_sal = merge.groupby(by=['name_y','departmentId']).aggregate({'salary':'max'}).reset_index().rename(columns={'name_y':'Department'})\n",
    "    result = pd.merge(employee,dept_sal,left_on='departmentId',right_on='departmentId',how='inner').rename(columns={'name':'Employee','salary_x':'Salary'})\n",
    "    return result[result['Salary']==result['salary_y']][['Department','Employee','Salary']]"
   ]
  },
  {
   "cell_type": "markdown",
   "id": "0386f90e",
   "metadata": {},
   "source": [
    "### Testing"
   ]
  },
  {
   "cell_type": "code",
   "execution_count": 3,
   "id": "2daaf2ce",
   "metadata": {},
   "outputs": [],
   "source": [
    "employee = pd.DataFrame({\n",
    "    'id': [1,2,3,4,5],\n",
    "    'name': ['Joe','Jim','Henry','Sam','Max'],\n",
    "    'salary': [70000, 90000, 80000, 60000,90000],\n",
    "    'departmentId':[1,1,2,2,1]\n",
    "})\n",
    "\n",
    "department = pd.DataFrame({\n",
    "    'id': [1,2],\n",
    "    'name': ['IT','Sales']\n",
    "})"
   ]
  },
  {
   "cell_type": "code",
   "execution_count": 22,
   "id": "a689fe44",
   "metadata": {},
   "outputs": [
    {
     "data": {
      "text/html": [
       "<div>\n",
       "<style scoped>\n",
       "    .dataframe tbody tr th:only-of-type {\n",
       "        vertical-align: middle;\n",
       "    }\n",
       "\n",
       "    .dataframe tbody tr th {\n",
       "        vertical-align: top;\n",
       "    }\n",
       "\n",
       "    .dataframe thead th {\n",
       "        text-align: right;\n",
       "    }\n",
       "</style>\n",
       "<table border=\"1\" class=\"dataframe\">\n",
       "  <thead>\n",
       "    <tr style=\"text-align: right;\">\n",
       "      <th></th>\n",
       "      <th>Department</th>\n",
       "      <th>Employee</th>\n",
       "      <th>Salary</th>\n",
       "    </tr>\n",
       "  </thead>\n",
       "  <tbody>\n",
       "    <tr>\n",
       "      <th>1</th>\n",
       "      <td>IT</td>\n",
       "      <td>Jim</td>\n",
       "      <td>90000</td>\n",
       "    </tr>\n",
       "    <tr>\n",
       "      <th>2</th>\n",
       "      <td>IT</td>\n",
       "      <td>Max</td>\n",
       "      <td>90000</td>\n",
       "    </tr>\n",
       "    <tr>\n",
       "      <th>3</th>\n",
       "      <td>Sales</td>\n",
       "      <td>Henry</td>\n",
       "      <td>80000</td>\n",
       "    </tr>\n",
       "  </tbody>\n",
       "</table>\n",
       "</div>"
      ],
      "text/plain": [
       "  Department Employee  Salary\n",
       "1         IT      Jim   90000\n",
       "2         IT      Max   90000\n",
       "3      Sales    Henry   80000"
      ]
     },
     "execution_count": 22,
     "metadata": {},
     "output_type": "execute_result"
    }
   ],
   "source": [
    "department_highest_salary(employee,department)"
   ]
  },
  {
   "cell_type": "code",
   "execution_count": null,
   "id": "09bc97fb",
   "metadata": {},
   "outputs": [],
   "source": []
  }
 ],
 "metadata": {
  "kernelspec": {
   "display_name": "Python (jupyter_env)",
   "language": "python",
   "name": "jupyter_env"
  },
  "language_info": {
   "codemirror_mode": {
    "name": "ipython",
    "version": 3
   },
   "file_extension": ".py",
   "mimetype": "text/x-python",
   "name": "python",
   "nbconvert_exporter": "python",
   "pygments_lexer": "ipython3",
   "version": "3.11.13"
  }
 },
 "nbformat": 4,
 "nbformat_minor": 5
}
