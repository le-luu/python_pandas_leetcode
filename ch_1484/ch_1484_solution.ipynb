{
 "cells": [
  {
   "cell_type": "markdown",
   "id": "c1b08a95",
   "metadata": {},
   "source": [
    "## Challenge 1484: Group Sold Products By the Date\n",
    "\n",
    "Table Activities:\n",
    "\n",
    "\n",
    "| Column Name | Type    |\n",
    "|-------------|---------|\n",
    "| sell_date   | date    |\n",
    "| product     | varchar |\n",
    "\n",
    "There is no primary key (column with unique values) for this table. It may contain duplicates.\n",
    "Each row of this table contains the product name and the date it was sold in a market.\n",
    " \n",
    "\n",
    "Write a solution to find for each date the number of different products sold and their names.\n",
    "\n",
    "The sold products names for each date should be sorted lexicographically.\n",
    "\n",
    "Return the result table ordered by sell_date.\n",
    "\n",
    "The result format is in the following example.\n",
    "\n",
    " \n",
    "\n",
    "Example 1:\n",
    "\n",
    "Input: \n",
    "Activities table:\n",
    "\n",
    "| sell_date  | product    |\n",
    "|------------|------------|\n",
    "| 2020-05-30 | Headphone  |\n",
    "| 2020-06-01 | Pencil     |\n",
    "| 2020-06-02 | Mask       |\n",
    "| 2020-05-30 | Basketball |\n",
    "| 2020-06-01 | Bible      |\n",
    "| 2020-06-02 | Mask       |\n",
    "| 2020-05-30 | T-Shirt    |\n",
    "\n",
    "Output: \n",
    "\n",
    "| sell_date  | num_sold | products                     |\n",
    "|------------|----------|------------------------------|\n",
    "| 2020-05-30 | 3        | Basketball,Headphone,T-shirt |\n",
    "| 2020-06-01 | 2        | Bible,Pencil                 |\n",
    "| 2020-06-02 | 1        | Mask                         |\n",
    "\n",
    "Explanation: \n",
    "For 2020-05-30, Sold items were (Headphone, Basketball, T-shirt), we sort them lexicographically and separate them by a comma.\n",
    "For 2020-06-01, Sold items were (Pencil, Bible), we sort them lexicographically and separate them by a comma.\n",
    "For 2020-06-02, the Sold item is (Mask), we just return it."
   ]
  },
  {
   "cell_type": "markdown",
   "id": "fe8fb6b2",
   "metadata": {},
   "source": [
    "### Solution"
   ]
  },
  {
   "cell_type": "code",
   "execution_count": 1,
   "id": "844f95cf",
   "metadata": {},
   "outputs": [],
   "source": [
    "import pandas as pd"
   ]
  },
  {
   "cell_type": "code",
   "execution_count": null,
   "id": "81006851",
   "metadata": {},
   "outputs": [],
   "source": [
    "def categorize_products(activities: pd.DataFrame) -> pd.DataFrame:\n",
    "    #group by the sell_date, then do aggregate\n",
    "    #for num_sold column, count values in the set - it will get the unique value in the set\n",
    "    #for products column, join each value in the set product and join them all together with a comma. Also sort the value.\n",
    "    return activities.groupby(by='sell_date').agg(num_sold=('product',lambda x: len(set(x))),products=('product',lambda p: ','.join(sorted(set(p))))).reset_index()"
   ]
  },
  {
   "cell_type": "code",
   "execution_count": 20,
   "id": "7742d38b",
   "metadata": {},
   "outputs": [],
   "source": [
    "data = pd.DataFrame({\n",
    "    'sell_date': ['2020-05-30','2020-06-01','2020-06-02','2020-05-30','2020-06-01','2020-06-02','2020-05-30'],\n",
    "    'product': ['Headphone','Pencil','Mask','Basketball','Bible','Mask','T-shirt']\n",
    "})"
   ]
  },
  {
   "cell_type": "code",
   "execution_count": 23,
   "id": "d7d24a21",
   "metadata": {},
   "outputs": [
    {
     "data": {
      "text/html": [
       "<div>\n",
       "<style scoped>\n",
       "    .dataframe tbody tr th:only-of-type {\n",
       "        vertical-align: middle;\n",
       "    }\n",
       "\n",
       "    .dataframe tbody tr th {\n",
       "        vertical-align: top;\n",
       "    }\n",
       "\n",
       "    .dataframe thead th {\n",
       "        text-align: right;\n",
       "    }\n",
       "</style>\n",
       "<table border=\"1\" class=\"dataframe\">\n",
       "  <thead>\n",
       "    <tr style=\"text-align: right;\">\n",
       "      <th></th>\n",
       "      <th>sell_date</th>\n",
       "      <th>num_sold</th>\n",
       "      <th>products</th>\n",
       "    </tr>\n",
       "  </thead>\n",
       "  <tbody>\n",
       "    <tr>\n",
       "      <th>0</th>\n",
       "      <td>2020-05-30</td>\n",
       "      <td>3</td>\n",
       "      <td>Basketball,Headphone,T-shirt</td>\n",
       "    </tr>\n",
       "    <tr>\n",
       "      <th>1</th>\n",
       "      <td>2020-06-01</td>\n",
       "      <td>2</td>\n",
       "      <td>Bible,Pencil</td>\n",
       "    </tr>\n",
       "    <tr>\n",
       "      <th>2</th>\n",
       "      <td>2020-06-02</td>\n",
       "      <td>1</td>\n",
       "      <td>Mask</td>\n",
       "    </tr>\n",
       "  </tbody>\n",
       "</table>\n",
       "</div>"
      ],
      "text/plain": [
       "    sell_date  num_sold                      products\n",
       "0  2020-05-30         3  Basketball,Headphone,T-shirt\n",
       "1  2020-06-01         2                  Bible,Pencil\n",
       "2  2020-06-02         1                          Mask"
      ]
     },
     "execution_count": 23,
     "metadata": {},
     "output_type": "execute_result"
    }
   ],
   "source": [
    "categorize_products(data)"
   ]
  },
  {
   "cell_type": "code",
   "execution_count": null,
   "id": "1f3432c3",
   "metadata": {},
   "outputs": [],
   "source": []
  }
 ],
 "metadata": {
  "kernelspec": {
   "display_name": "Python (jupyter_env)",
   "language": "python",
   "name": "jupyter_env"
  },
  "language_info": {
   "codemirror_mode": {
    "name": "ipython",
    "version": 3
   },
   "file_extension": ".py",
   "mimetype": "text/x-python",
   "name": "python",
   "nbconvert_exporter": "python",
   "pygments_lexer": "ipython3",
   "version": "3.11.13"
  }
 },
 "nbformat": 4,
 "nbformat_minor": 5
}
