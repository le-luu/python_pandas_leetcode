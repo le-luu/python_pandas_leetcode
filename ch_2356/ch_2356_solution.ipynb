{
 "cells": [
  {
   "cell_type": "markdown",
   "id": "4bb17096",
   "metadata": {},
   "source": [
    "## Challenge 2356: Number of Unique Subjects Taught by Each Teacher\n",
    "\n",
    "Table: Teacher\n",
    "\n",
    "\n",
    "| Column Name | Type |\n",
    "|-------------|------|\n",
    "| teacher_id  | int  |\n",
    "| subject_id  | int  |\n",
    "| dept_id     | int  |\n",
    "\n",
    "(subject_id, dept_id) is the primary key (combinations of columns with unique values) of this table.\n",
    "Each row in this table indicates that the teacher with teacher_id teaches the subject subject_id in the department dept_id.\n",
    " \n",
    "\n",
    "Write a solution to calculate the number of unique subjects each teacher teaches in the university.\n",
    "\n",
    "Return the result table in any order.\n",
    "\n",
    "The result format is shown in the following example.\n",
    "\n",
    " \n",
    "\n",
    "Example 1:\n",
    "\n",
    "Input: \n",
    "Teacher table:\n",
    "\n",
    "| teacher_id | subject_id | dept_id |\n",
    "|------------|------------|---------|\n",
    "| 1          | 2          | 3       |\n",
    "| 1          | 2          | 4       |\n",
    "| 1          | 3          | 3       |\n",
    "| 2          | 1          | 1       |\n",
    "| 2          | 2          | 1       |\n",
    "| 2          | 3          | 1       |\n",
    "| 2          | 4          | 1       |\n",
    "\n",
    "Output:  \n",
    "\n",
    "| teacher_id | cnt |\n",
    "|------------|-----|\n",
    "| 1          | 2   |\n",
    "| 2          | 4   |\n",
    "\n",
    "Explanation: \n",
    "Teacher 1:\n",
    "  - They teach subject 2 in departments 3 and 4.\n",
    "  - They teach subject 3 in department 3.\n",
    "Teacher 2:\n",
    "  - They teach subject 1 in department 1.\n",
    "  - They teach subject 2 in department 1.\n",
    "  - They teach subject 3 in department 1.\n",
    "  - They teach subject 4 in department 1."
   ]
  },
  {
   "cell_type": "markdown",
   "id": "04fda364",
   "metadata": {},
   "source": [
    "### Solution"
   ]
  },
  {
   "cell_type": "code",
   "execution_count": 1,
   "id": "14d73690",
   "metadata": {},
   "outputs": [],
   "source": [
    "import pandas as pd"
   ]
  },
  {
   "cell_type": "code",
   "execution_count": 11,
   "id": "687d1889",
   "metadata": {},
   "outputs": [],
   "source": [
    "def count_unique_subjects(teacher: pd.DataFrame) -> pd.DataFrame:\n",
    "    return teacher.groupby(by='teacher_id').aggregate({'subject_id':'nunique'}).reset_index().rename(columns={'subject_id':'cnt'})"
   ]
  },
  {
   "cell_type": "code",
   "execution_count": 12,
   "id": "5778d746",
   "metadata": {},
   "outputs": [],
   "source": [
    "data = pd.DataFrame({\n",
    "    'teacher_id': [1,1,1,2,2,2,2],\n",
    "    'subject_id': [2,2,3,1,2,3,4],\n",
    "    'dept_id': [3,4,3,1,1,1,1]\n",
    "})"
   ]
  },
  {
   "cell_type": "code",
   "execution_count": 13,
   "id": "dd5ac07d",
   "metadata": {},
   "outputs": [
    {
     "data": {
      "text/html": [
       "<div>\n",
       "<style scoped>\n",
       "    .dataframe tbody tr th:only-of-type {\n",
       "        vertical-align: middle;\n",
       "    }\n",
       "\n",
       "    .dataframe tbody tr th {\n",
       "        vertical-align: top;\n",
       "    }\n",
       "\n",
       "    .dataframe thead th {\n",
       "        text-align: right;\n",
       "    }\n",
       "</style>\n",
       "<table border=\"1\" class=\"dataframe\">\n",
       "  <thead>\n",
       "    <tr style=\"text-align: right;\">\n",
       "      <th></th>\n",
       "      <th>teacher_id</th>\n",
       "      <th>cnt</th>\n",
       "    </tr>\n",
       "  </thead>\n",
       "  <tbody>\n",
       "    <tr>\n",
       "      <th>0</th>\n",
       "      <td>1</td>\n",
       "      <td>2</td>\n",
       "    </tr>\n",
       "    <tr>\n",
       "      <th>1</th>\n",
       "      <td>2</td>\n",
       "      <td>4</td>\n",
       "    </tr>\n",
       "  </tbody>\n",
       "</table>\n",
       "</div>"
      ],
      "text/plain": [
       "   teacher_id  cnt\n",
       "0           1    2\n",
       "1           2    4"
      ]
     },
     "execution_count": 13,
     "metadata": {},
     "output_type": "execute_result"
    }
   ],
   "source": [
    "count_unique_subjects(data)"
   ]
  },
  {
   "cell_type": "code",
   "execution_count": null,
   "id": "e8fcc4f7",
   "metadata": {},
   "outputs": [],
   "source": []
  }
 ],
 "metadata": {
  "kernelspec": {
   "display_name": "Python (jupyter_env)",
   "language": "python",
   "name": "jupyter_env"
  },
  "language_info": {
   "codemirror_mode": {
    "name": "ipython",
    "version": 3
   },
   "file_extension": ".py",
   "mimetype": "text/x-python",
   "name": "python",
   "nbconvert_exporter": "python",
   "pygments_lexer": "ipython3",
   "version": "3.11.13"
  }
 },
 "nbformat": 4,
 "nbformat_minor": 5
}
