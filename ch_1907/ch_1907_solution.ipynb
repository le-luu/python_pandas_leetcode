{
 "cells": [
  {
   "cell_type": "markdown",
   "id": "f966fcb3",
   "metadata": {},
   "source": [
    "## Challenge 1907: Count Salary Categories\n",
    "\n",
    "Table: Accounts\n",
    "\n",
    "\n",
    "| Column Name | Type |\n",
    "|-------------|------|\n",
    "| account_id  | int  |\n",
    "| income      | int  |\n",
    "\n",
    "account_id is the primary key (column with unique values) for this table.\n",
    "Each row contains information about the monthly income for one bank account.\n",
    " \n",
    "\n",
    "Write a solution to calculate the number of bank accounts for each salary category. The salary categories are:\n",
    "\n",
    "\"Low Salary\": All the salaries strictly less than $20000.\n",
    "\"Average Salary\": All the salaries in the inclusive range [$20000, $50000].\n",
    "\"High Salary\": All the salaries strictly greater than $50000.\n",
    "The result table must contain all three categories. If there are no accounts in a category, return 0.\n",
    "\n",
    "Return the result table in any order.\n",
    "\n",
    "The result format is in the following example.\n",
    "\n",
    " \n",
    "\n",
    "Example 1:\n",
    "\n",
    "Input: \n",
    "Accounts table:\n",
    "\n",
    "| account_id | income |\n",
    "|------------|--------|\n",
    "| 3          | 108939 |\n",
    "| 2          | 12747  |\n",
    "| 8          | 87709  |\n",
    "| 6          | 91796  |\n",
    "\n",
    "Output: \n",
    "\n",
    "| category       | accounts_count |\n",
    "|----------------|----------------|\n",
    "| Low Salary     | 1              |\n",
    "| Average Salary | 0              |\n",
    "| High Salary    | 3              |\n",
    "\n",
    "Explanation: \n",
    "Low Salary: Account 2.\n",
    "Average Salary: No accounts.\n",
    "High Salary: Accounts 3, 6, and 8."
   ]
  },
  {
   "cell_type": "markdown",
   "id": "71f51207",
   "metadata": {},
   "source": [
    "### Solution"
   ]
  },
  {
   "cell_type": "code",
   "execution_count": 1,
   "id": "0a2b7495",
   "metadata": {},
   "outputs": [],
   "source": [
    "import pandas as pd"
   ]
  },
  {
   "cell_type": "code",
   "execution_count": null,
   "id": "09f61aa6",
   "metadata": {},
   "outputs": [],
   "source": [
    "def count_salary_categories(accounts: pd.DataFrame) -> pd.DataFrame:\n",
    "    #Categorize for each account based on the income\n",
    "    accounts['category'] = accounts['income'].apply(\n",
    "        lambda x: 'High Salary' if x > 50000 else (\n",
    "            'Average Salary' if 20000 <= x <= 50000 else 'Low Salary'\n",
    "        )\n",
    "    )\n",
    "\n",
    "    #count the category for each account; if it's null, fill by 0\n",
    "    counts = accounts['category'].value_counts().reindex(\n",
    "        ['Low Salary', 'Average Salary', 'High Salary'], fill_value=0\n",
    "    ).reset_index()\n",
    "\n",
    "    counts.columns = ['category', 'accounts_count']\n",
    "    return counts"
   ]
  },
  {
   "cell_type": "code",
   "execution_count": 25,
   "id": "ba06e162",
   "metadata": {},
   "outputs": [],
   "source": [
    "data = pd.DataFrame({\n",
    "    'account_id': [3,2,8,6],\n",
    "    'income': [108939,12747,87709,91796]\n",
    "})"
   ]
  },
  {
   "cell_type": "code",
   "execution_count": 21,
   "id": "31729cf3",
   "metadata": {},
   "outputs": [
    {
     "data": {
      "text/html": [
       "<div>\n",
       "<style scoped>\n",
       "    .dataframe tbody tr th:only-of-type {\n",
       "        vertical-align: middle;\n",
       "    }\n",
       "\n",
       "    .dataframe tbody tr th {\n",
       "        vertical-align: top;\n",
       "    }\n",
       "\n",
       "    .dataframe thead th {\n",
       "        text-align: right;\n",
       "    }\n",
       "</style>\n",
       "<table border=\"1\" class=\"dataframe\">\n",
       "  <thead>\n",
       "    <tr style=\"text-align: right;\">\n",
       "      <th></th>\n",
       "      <th>category</th>\n",
       "      <th>accounts_count</th>\n",
       "    </tr>\n",
       "  </thead>\n",
       "  <tbody>\n",
       "    <tr>\n",
       "      <th>0</th>\n",
       "      <td>Low Salary</td>\n",
       "      <td>1</td>\n",
       "    </tr>\n",
       "    <tr>\n",
       "      <th>1</th>\n",
       "      <td>Average Salary</td>\n",
       "      <td>0</td>\n",
       "    </tr>\n",
       "    <tr>\n",
       "      <th>2</th>\n",
       "      <td>High Salary</td>\n",
       "      <td>3</td>\n",
       "    </tr>\n",
       "  </tbody>\n",
       "</table>\n",
       "</div>"
      ],
      "text/plain": [
       "         category  accounts_count\n",
       "0      Low Salary               1\n",
       "1  Average Salary               0\n",
       "2     High Salary               3"
      ]
     },
     "execution_count": 21,
     "metadata": {},
     "output_type": "execute_result"
    }
   ],
   "source": [
    "count_salary_categories(data)"
   ]
  },
  {
   "cell_type": "code",
   "execution_count": 27,
   "id": "40290417",
   "metadata": {},
   "outputs": [],
   "source": [
    "# A good solution I learned from other users\n",
    "def count_salary_categories(accounts: pd.DataFrame) -> pd.DataFrame:\n",
    "    low = 0\n",
    "    avg = 0\n",
    "    high= 0\n",
    "\n",
    "    for x in accounts['income']:\n",
    "        if x <20000:\n",
    "            low+=1\n",
    "        elif x<= 50000:\n",
    "            avg+=1\n",
    "        else:\n",
    "            high+=1\n",
    "    return pd.DataFrame({\n",
    "        'category':['Low Salary','Average Salary','High Salary'],\n",
    "        'accounts_count': [low,avg,high]\n",
    "    })"
   ]
  },
  {
   "cell_type": "code",
   "execution_count": 28,
   "id": "10835089",
   "metadata": {},
   "outputs": [
    {
     "data": {
      "text/html": [
       "<div>\n",
       "<style scoped>\n",
       "    .dataframe tbody tr th:only-of-type {\n",
       "        vertical-align: middle;\n",
       "    }\n",
       "\n",
       "    .dataframe tbody tr th {\n",
       "        vertical-align: top;\n",
       "    }\n",
       "\n",
       "    .dataframe thead th {\n",
       "        text-align: right;\n",
       "    }\n",
       "</style>\n",
       "<table border=\"1\" class=\"dataframe\">\n",
       "  <thead>\n",
       "    <tr style=\"text-align: right;\">\n",
       "      <th></th>\n",
       "      <th>category</th>\n",
       "      <th>accounts_count</th>\n",
       "    </tr>\n",
       "  </thead>\n",
       "  <tbody>\n",
       "    <tr>\n",
       "      <th>0</th>\n",
       "      <td>Low Salary</td>\n",
       "      <td>1</td>\n",
       "    </tr>\n",
       "    <tr>\n",
       "      <th>1</th>\n",
       "      <td>Average Salary</td>\n",
       "      <td>0</td>\n",
       "    </tr>\n",
       "    <tr>\n",
       "      <th>2</th>\n",
       "      <td>High Salary</td>\n",
       "      <td>3</td>\n",
       "    </tr>\n",
       "  </tbody>\n",
       "</table>\n",
       "</div>"
      ],
      "text/plain": [
       "         category  accounts_count\n",
       "0      Low Salary               1\n",
       "1  Average Salary               0\n",
       "2     High Salary               3"
      ]
     },
     "execution_count": 28,
     "metadata": {},
     "output_type": "execute_result"
    }
   ],
   "source": [
    "count_salary_categories(data)"
   ]
  },
  {
   "cell_type": "code",
   "execution_count": null,
   "id": "8522befb",
   "metadata": {},
   "outputs": [],
   "source": []
  }
 ],
 "metadata": {
  "kernelspec": {
   "display_name": "Python (jupyter_env)",
   "language": "python",
   "name": "jupyter_env"
  },
  "language_info": {
   "codemirror_mode": {
    "name": "ipython",
    "version": 3
   },
   "file_extension": ".py",
   "mimetype": "text/x-python",
   "name": "python",
   "nbconvert_exporter": "python",
   "pygments_lexer": "ipython3",
   "version": "3.11.13"
  }
 },
 "nbformat": 4,
 "nbformat_minor": 5
}
